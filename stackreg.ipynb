{
 "cells": [
  {
   "attachments": {},
   "cell_type": "markdown",
   "id": "b3532c8a",
   "metadata": {},
   "source": [
    "**# Set Parameters:**"
   ]
  },
  {
   "cell_type": "code",
   "execution_count": 2,
   "id": "f8a0c18a",
   "metadata": {},
   "outputs": [],
   "source": [
    "TODO_LIST = [                   # list here quoted TIFF file names without .tif extensions, divided py comma:\n",
    "\n",
    "    'Your_file_01',\n",
    "    'Your_file_02',\n",
    "    'Your_file_03',\n",
    "\n",
    "]\n",
    "\n",
    "DIRECTORY = 'data/'\n",
    "                                # Path to files. Leave quotes empty if the files in the same directory with this script\n",
    "\n",
    "DISTORTION_TYPE = 'BILINEAR'\n",
    "                                # TRANSLATION        - translation\n",
    "                                # RIGID_BODY         - translation + rotation\n",
    "                                # SCALED_ROTATION    - translation + rotation + scaling\n",
    "                                # AFFINE             - translation + rotation + scaling + shearing\n",
    "                                # BILINEAR           - non-linear transformation\n",
    "\n",
    "REFERENCE_FRAME = 'previous'\n",
    "                                # first, previous, mean\n",
    "\n",
    "NUMBER_OF_REF_FRAMES = 10\n",
    "                                # If reference is 'first', then this parameter specifies the\n",
    "                                # number of frames from the beginning of the stack that\n",
    "                                # should be averaged to yield the reference image.\n",
    "\n",
    "MOVING_AVERAGE = 10\n",
    "                                # If moving_average is greater than 1, a moving average of\n",
    "                                # the stack is first created (using a subset size of\n",
    "                                # moving_average) before registration\n",
    "\n",
    "TIME_AXIS = 0\n",
    "                                # The axis of the time dimension in original TIFF array (default 0)\n",
    "\n",
    "NOREG = False\n",
    "                                # Just simple split stack by channels with no registration. Set True or False\n",
    "\n",
    "MULTIPROCESSING = False\n",
    "                                # Use all available CPU cores. Faster, but need much more RAM and can be unstable."
   ]
  },
  {
   "attachments": {},
   "cell_type": "markdown",
   "id": "545364c2",
   "metadata": {},
   "source": [
    "**# Start Processing:**"
   ]
  },
  {
   "cell_type": "code",
   "execution_count": null,
   "id": "511842b3",
   "metadata": {},
   "outputs": [],
   "source": [
    "import stackreg\n",
    "\n",
    "stackreg.TODO_LIST = TODO_LIST\n",
    "stackreg.DIRECTORY = DIRECTORY\n",
    "stackreg.DISTORTION_TYPE = DISTORTION_TYPE\n",
    "stackreg.REFERENCE_FRAME = REFERENCE_FRAME\n",
    "stackreg.NUMBER_OF_REF_FRAMES = NUMBER_OF_REF_FRAMES\n",
    "stackreg.MOVING_AVERAGE = MOVING_AVERAGE\n",
    "stackreg.TIME_AXIS = TIME_AXIS\n",
    "stackreg.NOREG = NOREG\n",
    "stackreg.MULTIPROCESSING = MULTIPROCESSING\n",
    "\n",
    "stackreg.main()"
   ]
  }
 ],
 "metadata": {
  "kernelspec": {
   "display_name": "Python 3 (ipykernel)",
   "language": "python",
   "name": "python3"
  },
  "language_info": {
   "codemirror_mode": {
    "name": "ipython",
    "version": 3
   },
   "file_extension": ".py",
   "mimetype": "text/x-python",
   "name": "python",
   "nbconvert_exporter": "python",
   "pygments_lexer": "ipython3",
   "version": "3.10.8"
  }
 },
 "nbformat": 4,
 "nbformat_minor": 5
}
